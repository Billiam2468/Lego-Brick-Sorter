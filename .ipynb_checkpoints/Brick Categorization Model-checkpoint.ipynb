{
 "cells": [
  {
   "cell_type": "markdown",
   "id": "8b83cc3c",
   "metadata": {},
   "source": [
    "This is the notebook for creating the model for categorizing our Lego bricks. Categories will be defined by Tom Alphin's Lego Brick Labels (v39)."
   ]
  },
  {
   "cell_type": "code",
   "execution_count": null,
   "id": "c915000f",
   "metadata": {},
   "outputs": [],
   "source": []
  }
 ],
 "metadata": {
  "kernelspec": {
   "display_name": "Python 3 (ipykernel)",
   "language": "python",
   "name": "python3"
  },
  "language_info": {
   "codemirror_mode": {
    "name": "ipython",
    "version": 3
   },
   "file_extension": ".py",
   "mimetype": "text/x-python",
   "name": "python",
   "nbconvert_exporter": "python",
   "pygments_lexer": "ipython3",
   "version": "3.10.8"
  }
 },
 "nbformat": 4,
 "nbformat_minor": 5
}
