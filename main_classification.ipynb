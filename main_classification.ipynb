{
 "cells": [
  {
   "cell_type": "code",
   "execution_count": 1,
   "id": "compact-mirror",
   "metadata": {},
   "outputs": [
    {
     "data": {
      "text/plain": [
       "'/Users/williamlee/Documents/Lego Sorter/Annotation Image Cropper/PascalVOC-to-Images/data'"
      ]
     },
     "execution_count": 1,
     "metadata": {},
     "output_type": "execute_result"
    }
   ],
   "source": [
    "import os\n",
    "os.chdir(\"data\")\n",
    "os.getcwd()"
   ]
  },
  {
   "cell_type": "code",
   "execution_count": 30,
   "id": "joined-traveler",
   "metadata": {},
   "outputs": [
    {
     "name": "stdout",
     "output_type": "stream",
     "text": [
      "Found 1 files in data directory!\n",
      "Parsing file 'test1.xml'...\n",
      "test1.jpg\n",
      "Image file 'test1.jpg' printed here \n",
      "Found 4 objects on image 'test1.jpg'...\n",
      "(56, 92)\n",
      "(184, 96)\n",
      "(116, 116)\n",
      "(92, 164)\n"
     ]
    }
   ],
   "source": [
    "import glob\n",
    "import os\n",
    "import xmltodict\n",
    "import json\n",
    "import pprint\n",
    "\n",
    "from PIL import Image\n",
    "import cv2\n",
    "from matplotlib import pyplot as plt\n",
    "\n",
    "# Printing results\n",
    "pp = pprint.PrettyPrinter(indent=4)\n",
    "\n",
    "\n",
    "# Look for XML files and parses then as if they were Pascal VOC Files\n",
    "def process():\n",
    "    # Finds all XML files on data/ and append to list\n",
    "    pascal_voc_contents = []\n",
    "    #os.chdir(\"data\")\n",
    "\n",
    "    print(\"Found {} files in data directory!\".format(\n",
    "        str(len(glob.glob(\"*.xml\")))))\n",
    "    for file in glob.glob(\"*.xml\"):\n",
    "        f_handle = open(file, 'r')\n",
    "        print(\"Parsing file '{}'...\".format(file))\n",
    "        pascal_voc_contents.append(xmltodict.parse(f_handle.read()))\n",
    "        \n",
    "\n",
    "    # Process each file individually\n",
    "    for index in pascal_voc_contents:\n",
    "        image_file = index['annotation']['filename']\n",
    "        print(image_file)\n",
    "        print(\"Image file '{}' printed here \".format(image_file))\n",
    "        #image_file = image_file + '.jpg'\n",
    "        image_file = image_file \n",
    "        # If there's a corresponding file in the folder,\n",
    "        # process the images and save to output folder\n",
    "        if os.path.isfile(image_file):\n",
    "            dataset = index['annotation']\n",
    "            if 'object' in dataset:\n",
    "                extractDataset(dataset)\n",
    "               # break\n",
    "        else:\n",
    "            print(\"Image file '{}' not found, skipping file...\".format(image_file))\n",
    "\n",
    "\n",
    "# Extract image samples and save to output dir\n",
    "def extractDataset(dataset):\n",
    "    if 'object' in dataset:\n",
    "        print(\"Found {} objects on image '{}'...\".format(\n",
    "            len(dataset['object']), dataset['filename']))\n",
    "\n",
    "        img = Image.open(dataset['filename'] )\n",
    "        i = 0\n",
    "\n",
    "        # Run through each item and save cut image to output folder\n",
    "        if isinstance(dataset['object'], list):\n",
    "            for item in dataset['object']:\n",
    "                bndbox = dict([( a, float(b.replace(',','.'))) for (a, b) in item['bndbox'].items()])\n",
    "                \n",
    "                # Create output directory\n",
    "                save_dir = item['name'] \n",
    "                try:\n",
    "                    os.mkdir(save_dir)\n",
    "                except:\n",
    "                    pass\n",
    "                ySum = 1280-1061\n",
    "                \n",
    "                im = img.crop((bndbox['xmin'], bndbox['ymin'],\n",
    "                               bndbox['xmax'], bndbox['ymax']))\n",
    "                \n",
    "                \n",
    "                #IMAGE POSTPROCESSING HERE (grayscale, pixelate, )\n",
    "                \n",
    "                #Convert gray scale\n",
    "                im = im.convert('L')\n",
    "                \n",
    "                #Pixelate image by factor defined by pix_factor\n",
    "                pix_factor = 3\n",
    "                im = im.resize((int(im.width/pix_factor), int(im.height/pix_factor)))\n",
    "                im = im.resize((im.width*pix_factor, im.height*pix_factor), Image.NEAREST)\n",
    "                \n",
    "                \n",
    "                im.save( save_dir + \"/\" + dataset['filename'] + str(i) + '.jpg')\n",
    "                i = i + 1\n",
    "        else:\n",
    "            print('the else is here')\n",
    "            bndbox = dict([( a, float(b.replace(',','.'))) for (a, b) in dataset['object']['bndbox'].items()])\n",
    "                \n",
    "            print(dataset['object']['name'])\n",
    "            # Create output directory\n",
    "            save_dir = dataset['object']['name']\n",
    "            try:\n",
    "                os.mkdir(save_dir)\n",
    "            except:\n",
    "                pass\n",
    "            ySum = 1280-1061\n",
    "            im = img.crop((bndbox['xmin'], bndbox['ymin'] ,\n",
    "                           bndbox['xmax'], bndbox['ymax'] ))\n",
    "            \n",
    "            # Save\n",
    "            #im.save(sample_preamble + str(i) + '.jpg')\n",
    "            im.save( save_dir + \"/\" + dataset['filename'] + str(i) + '.jpg')\n",
    "            #i = i + 1\n",
    "\n",
    "\n",
    "process()\n"
   ]
  },
  {
   "cell_type": "code",
   "execution_count": null,
   "id": "modern-skirt",
   "metadata": {},
   "outputs": [],
   "source": []
  }
 ],
 "metadata": {
  "kernelspec": {
   "display_name": "Python 3",
   "language": "python",
   "name": "python3"
  },
  "language_info": {
   "codemirror_mode": {
    "name": "ipython",
    "version": 3
   },
   "file_extension": ".py",
   "mimetype": "text/x-python",
   "name": "python",
   "nbconvert_exporter": "python",
   "pygments_lexer": "ipython3",
   "version": "3.8.8"
  }
 },
 "nbformat": 4,
 "nbformat_minor": 5
}
