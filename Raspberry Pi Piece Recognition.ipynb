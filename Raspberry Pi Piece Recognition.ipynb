{
 "cells": [
  {
   "cell_type": "markdown",
   "id": "1b6ec3ea",
   "metadata": {},
   "source": [
    "This is the code that will be imported into our Raspberry Pi to process and send images to our computer for classification"
   ]
  },
  {
   "cell_type": "code",
   "execution_count": 1,
   "id": "2f778e8a",
   "metadata": {},
   "outputs": [
    {
     "ename": "KeyboardInterrupt",
     "evalue": "",
     "output_type": "error",
     "traceback": [
      "\u001b[0;31m---------------------------------------------------------------------------\u001b[0m",
      "\u001b[0;31mKeyboardInterrupt\u001b[0m                         Traceback (most recent call last)",
      "\u001b[0;32m<ipython-input-1-7bf49d3abd2a>\u001b[0m in \u001b[0;36m<module>\u001b[0;34m\u001b[0m\n\u001b[1;32m     15\u001b[0m \u001b[0;32mwhile\u001b[0m\u001b[0;34m(\u001b[0m\u001b[0;32mTrue\u001b[0m\u001b[0;34m)\u001b[0m\u001b[0;34m:\u001b[0m\u001b[0;34m\u001b[0m\u001b[0;34m\u001b[0m\u001b[0m\n\u001b[1;32m     16\u001b[0m         \u001b[0;31m# Capture video frame by frame\u001b[0m\u001b[0;34m\u001b[0m\u001b[0;34m\u001b[0m\u001b[0;34m\u001b[0m\u001b[0m\n\u001b[0;32m---> 17\u001b[0;31m         \u001b[0mret\u001b[0m\u001b[0;34m,\u001b[0m \u001b[0mframe\u001b[0m \u001b[0;34m=\u001b[0m \u001b[0mcap\u001b[0m\u001b[0;34m.\u001b[0m\u001b[0mread\u001b[0m\u001b[0;34m(\u001b[0m\u001b[0;34m)\u001b[0m\u001b[0;34m\u001b[0m\u001b[0;34m\u001b[0m\u001b[0m\n\u001b[0m\u001b[1;32m     18\u001b[0m \u001b[0;34m\u001b[0m\u001b[0m\n\u001b[1;32m     19\u001b[0m         \u001b[0;31m# Apply MOG2 to Frame\u001b[0m\u001b[0;34m\u001b[0m\u001b[0;34m\u001b[0m\u001b[0;34m\u001b[0m\u001b[0m\n",
      "\u001b[0;31mKeyboardInterrupt\u001b[0m: "
     ]
    }
   ],
   "source": [
    "# Import packages\n",
    "import numpy as np\n",
    "import cv2\n",
    "from skimage import data, filters\n",
    "\n",
    "# Open Video\n",
    "cap = cv2.VideoCapture(0)\n",
    "\n",
    "# Create BG Subtraction Function\n",
    "fgbg = cv2.createBackgroundSubtractorMOG2(detectShadows=False)\n",
    "\n",
    "# Create Window\n",
    "cv2.startWindowThread()\n",
    "\n",
    "while(True):\n",
    "        # Capture video frame by frame\n",
    "        ret, frame = cap.read()\n",
    "        \n",
    "        # Apply MOG2 to Frame\n",
    "        fgmask = fgbg.apply(frame)\n",
    "        \n",
    "        # Adjust size\n",
    "        frame = cv2.resize(frame, None, fx=0.5, fy=0.5, interpolation=cv2.INTER_AREA)\n",
    "        fgmask = cv2.resize(fgmask, None, fx=0.5, fy=0.5, interpolation=cv2.INTER_AREA)\n",
    "        \n",
    "        # Detect contours of object\n",
    "        contours, hierarchy = cv2.findContours(image=fgmask, mode=cv2.RETR_CCOMP, method=cv2.CHAIN_APPROX_SIMPLE)\n",
    "        \n",
    "        # Access largest contour (aka piece)\n",
    "        piece_contour = max(contours, key = cv2.contourArea)\n",
    "        \n",
    "        # Draw bounding box around piece\n",
    "        image_copy = frame.copy()\n",
    "        x, y, w, h = cv2.boundingRect(piece_contour)\n",
    "        # cv2.drawContours(image=image_copy, contours=piece_contour, contourIdx=-1, color=(0, 255, 0), thickness=2, lineType=cv2.LINE_AA)\n",
    "        cv2.rectangle(image_copy, (x-10,y-10), (x+w+10, y+h+10), (0, 255, 0), 3)\n",
    "        cv2.putText(image_copy,'Brick Detected',(x,y-20),0,0.5,(0,255,0))\n",
    "        \n",
    "        # Display frame and foreground mask windows\n",
    "        # cv2.imshow('frame', frame)\n",
    "        cv2.imshow('FG Mask', image_copy)\n",
    "        \n",
    "        #Press escape to close window\n",
    "        c = cv2.waitKey(1)\n",
    "        if c == 27:\n",
    "            cv2.destroyAllWindows()\n",
    "            cap.release()\n",
    "            break\n",
    "cv2.destroyAllWindows()\n",
    "cap.release()"
   ]
  },
  {
   "cell_type": "code",
   "execution_count": null,
   "id": "cdc3e2b1",
   "metadata": {},
   "outputs": [],
   "source": []
  },
  {
   "cell_type": "code",
   "execution_count": null,
   "id": "81f9ed70",
   "metadata": {},
   "outputs": [],
   "source": []
  }
 ],
 "metadata": {
  "kernelspec": {
   "display_name": "Python 3",
   "language": "python",
   "name": "python3"
  },
  "language_info": {
   "codemirror_mode": {
    "name": "ipython",
    "version": 3
   },
   "file_extension": ".py",
   "mimetype": "text/x-python",
   "name": "python",
   "nbconvert_exporter": "python",
   "pygments_lexer": "ipython3",
   "version": "3.8.8"
  }
 },
 "nbformat": 4,
 "nbformat_minor": 5
}
